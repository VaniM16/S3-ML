{
  "nbformat": 4,
  "nbformat_minor": 0,
  "metadata": {
    "colab": {
      "name": "CNN.ipynb",
      "provenance": [],
      "authorship_tag": "ABX9TyOfNxhF11vON7nq9tY8rV+l",
      "include_colab_link": true
    },
    "kernelspec": {
      "name": "python3",
      "display_name": "Python 3"
    },
    "language_info": {
      "name": "python"
    }
  },
  "cells": [
    {
      "cell_type": "markdown",
      "metadata": {
        "id": "view-in-github",
        "colab_type": "text"
      },
      "source": [
        "<a href=\"https://colab.research.google.com/github/VaniM16/S3-ML/blob/main/CNN.ipynb\" target=\"_parent\"><img src=\"https://colab.research.google.com/assets/colab-badge.svg\" alt=\"Open In Colab\"/></a>"
      ]
    },
    {
      "cell_type": "code",
      "execution_count": null,
      "metadata": {
        "id": "WLgj2UVdrfqt"
      },
      "outputs": [],
      "source": [
        "import keras\n",
        "from keras.datasets import mnist\n",
        "from keras.models import Sequential\n",
        "from keras.layers import Dense\n",
        "from tensorflow.keras.optimizers import SGD\n",
        "from matplotlib import pyplot as plt"
      ]
    },
    {
      "cell_type": "code",
      "source": [
        "(x_train,y_train),(x_valid,y_valid)=mnist.load_data()"
      ],
      "metadata": {
        "colab": {
          "base_uri": "https://localhost:8080/"
        },
        "id": "3GU1wm66sR6h",
        "outputId": "6439d1f3-1ef0-442c-e760-f5225a25fe40"
      },
      "execution_count": null,
      "outputs": [
        {
          "output_type": "stream",
          "name": "stdout",
          "text": [
            "Downloading data from https://storage.googleapis.com/tensorflow/tf-keras-datasets/mnist.npz\n",
            "11493376/11490434 [==============================] - 0s 0us/step\n",
            "11501568/11490434 [==============================] - 0s 0us/step\n"
          ]
        }
      ]
    },
    {
      "cell_type": "code",
      "source": [
        "x_train=x_train.reshape(60000,784).astype('float32')\n",
        "x_valid=x_valid.reshape(10000,784).astype('float32')"
      ],
      "metadata": {
        "id": "U_dv1Oy2s4tL"
      },
      "execution_count": null,
      "outputs": []
    },
    {
      "cell_type": "code",
      "source": [
        "x_train/=255\n",
        "x_valid/=255\n"
      ],
      "metadata": {
        "id": "RNEowyF6tniu"
      },
      "execution_count": null,
      "outputs": []
    },
    {
      "cell_type": "code",
      "source": [
        "from keras import utils as np_utils\n",
        "n_classes=10\n",
        "y_train=keras.utils.np_utils.to_categorical(y_train,n_classes)\n",
        "y_valid=keras.utils.np_utils.to_categorical(y_valid,n_classes)"
      ],
      "metadata": {
        "id": "QyP4BMq9t-ZX"
      },
      "execution_count": null,
      "outputs": []
    },
    {
      "cell_type": "code",
      "source": [
        "model=Sequential()"
      ],
      "metadata": {
        "id": "hAQqtGd4unaO"
      },
      "execution_count": null,
      "outputs": []
    },
    {
      "cell_type": "code",
      "source": [
        "model.add(Dense(64,activation='sigmoid',input_shape=(784,)))"
      ],
      "metadata": {
        "id": "RXa5u2RIyhxN"
      },
      "execution_count": null,
      "outputs": []
    },
    {
      "cell_type": "code",
      "source": [
        "model.add(Dense(10,activation='softmax'))"
      ],
      "metadata": {
        "id": "oAWQZr7hy2VV"
      },
      "execution_count": null,
      "outputs": []
    },
    {
      "cell_type": "code",
      "source": [
        "model.summary()"
      ],
      "metadata": {
        "colab": {
          "base_uri": "https://localhost:8080/"
        },
        "id": "wF5_fLxwzAe1",
        "outputId": "761390c5-b503-4725-cda4-dcc942283eeb"
      },
      "execution_count": null,
      "outputs": [
        {
          "output_type": "stream",
          "name": "stdout",
          "text": [
            "Model: \"sequential\"\n",
            "_________________________________________________________________\n",
            " Layer (type)                Output Shape              Param #   \n",
            "=================================================================\n",
            " dense (Dense)               (None, 64)                50240     \n",
            "                                                                 \n",
            " dense_1 (Dense)             (None, 10)                650       \n",
            "                                                                 \n",
            "=================================================================\n",
            "Total params: 50,890\n",
            "Trainable params: 50,890\n",
            "Non-trainable params: 0\n",
            "_________________________________________________________________\n"
          ]
        }
      ]
    },
    {
      "cell_type": "code",
      "source": [
        "model.compile(loss='mean_squared_error',optimizer=SGD(learning_rate=0.01),metrics=['accuracy'])"
      ],
      "metadata": {
        "id": "LPcsyMnnzK4O"
      },
      "execution_count": null,
      "outputs": []
    },
    {
      "cell_type": "code",
      "source": [
        "history=model.fit(x_train,y_train,batch_size=128,epochs=150,verbose=1)"
      ],
      "metadata": {
        "colab": {
          "base_uri": "https://localhost:8080/"
        },
        "id": "nAu_wwyKz22V",
        "outputId": "a84d379e-cede-4d4e-90ce-cfb13d90fc6f"
      },
      "execution_count": null,
      "outputs": [
        {
          "output_type": "stream",
          "name": "stdout",
          "text": [
            "Epoch 1/150\n",
            "469/469 [==============================] - 2s 3ms/step - loss: 0.0922 - accuracy: 0.0699\n",
            "Epoch 2/150\n",
            "469/469 [==============================] - 1s 3ms/step - loss: 0.0915 - accuracy: 0.0904\n",
            "Epoch 3/150\n",
            "469/469 [==============================] - 1s 3ms/step - loss: 0.0910 - accuracy: 0.1120\n",
            "Epoch 4/150\n",
            "469/469 [==============================] - 1s 3ms/step - loss: 0.0906 - accuracy: 0.1425\n",
            "Epoch 5/150\n",
            "469/469 [==============================] - 1s 3ms/step - loss: 0.0902 - accuracy: 0.1768\n",
            "Epoch 6/150\n",
            "469/469 [==============================] - 1s 3ms/step - loss: 0.0899 - accuracy: 0.2097\n",
            "Epoch 7/150\n",
            "469/469 [==============================] - 1s 3ms/step - loss: 0.0895 - accuracy: 0.2390\n",
            "Epoch 8/150\n",
            "469/469 [==============================] - 1s 2ms/step - loss: 0.0892 - accuracy: 0.2623\n",
            "Epoch 9/150\n",
            "469/469 [==============================] - 1s 3ms/step - loss: 0.0889 - accuracy: 0.2806\n",
            "Epoch 10/150\n",
            "469/469 [==============================] - 1s 3ms/step - loss: 0.0887 - accuracy: 0.2944\n",
            "Epoch 11/150\n",
            "469/469 [==============================] - 1s 3ms/step - loss: 0.0884 - accuracy: 0.3042\n",
            "Epoch 12/150\n",
            "469/469 [==============================] - 1s 3ms/step - loss: 0.0881 - accuracy: 0.3131\n",
            "Epoch 13/150\n",
            "469/469 [==============================] - 1s 3ms/step - loss: 0.0878 - accuracy: 0.3191\n",
            "Epoch 14/150\n",
            "469/469 [==============================] - 1s 3ms/step - loss: 0.0875 - accuracy: 0.3234\n",
            "Epoch 15/150\n",
            "469/469 [==============================] - 1s 3ms/step - loss: 0.0872 - accuracy: 0.3269\n",
            "Epoch 16/150\n",
            "469/469 [==============================] - 1s 3ms/step - loss: 0.0869 - accuracy: 0.3300\n",
            "Epoch 17/150\n",
            "469/469 [==============================] - 1s 3ms/step - loss: 0.0866 - accuracy: 0.3319\n",
            "Epoch 18/150\n",
            "469/469 [==============================] - 1s 3ms/step - loss: 0.0863 - accuracy: 0.3353\n",
            "Epoch 19/150\n",
            "469/469 [==============================] - 1s 3ms/step - loss: 0.0860 - accuracy: 0.3372\n",
            "Epoch 20/150\n",
            "469/469 [==============================] - 1s 3ms/step - loss: 0.0857 - accuracy: 0.3404\n",
            "Epoch 21/150\n",
            "469/469 [==============================] - 1s 3ms/step - loss: 0.0853 - accuracy: 0.3474\n",
            "Epoch 22/150\n",
            "469/469 [==============================] - 1s 3ms/step - loss: 0.0850 - accuracy: 0.3604\n",
            "Epoch 23/150\n",
            "469/469 [==============================] - 1s 3ms/step - loss: 0.0847 - accuracy: 0.3746\n",
            "Epoch 24/150\n",
            "469/469 [==============================] - 1s 2ms/step - loss: 0.0843 - accuracy: 0.3907\n",
            "Epoch 25/150\n",
            "469/469 [==============================] - 1s 3ms/step - loss: 0.0839 - accuracy: 0.4024\n",
            "Epoch 26/150\n",
            "469/469 [==============================] - 1s 3ms/step - loss: 0.0836 - accuracy: 0.4155\n",
            "Epoch 27/150\n",
            "469/469 [==============================] - 1s 3ms/step - loss: 0.0832 - accuracy: 0.4271\n",
            "Epoch 28/150\n",
            "469/469 [==============================] - 1s 3ms/step - loss: 0.0828 - accuracy: 0.4384\n",
            "Epoch 29/150\n",
            "469/469 [==============================] - 1s 2ms/step - loss: 0.0825 - accuracy: 0.4462\n",
            "Epoch 30/150\n",
            "469/469 [==============================] - 1s 3ms/step - loss: 0.0821 - accuracy: 0.4536\n",
            "Epoch 31/150\n",
            "469/469 [==============================] - 1s 3ms/step - loss: 0.0817 - accuracy: 0.4599\n",
            "Epoch 32/150\n",
            "469/469 [==============================] - 1s 2ms/step - loss: 0.0813 - accuracy: 0.4630\n",
            "Epoch 33/150\n",
            "469/469 [==============================] - 2s 4ms/step - loss: 0.0809 - accuracy: 0.4656\n",
            "Epoch 34/150\n",
            "469/469 [==============================] - 1s 3ms/step - loss: 0.0805 - accuracy: 0.4688\n",
            "Epoch 35/150\n",
            "469/469 [==============================] - 1s 3ms/step - loss: 0.0801 - accuracy: 0.4704\n",
            "Epoch 36/150\n",
            "469/469 [==============================] - 1s 3ms/step - loss: 0.0796 - accuracy: 0.4720\n",
            "Epoch 37/150\n",
            "469/469 [==============================] - 1s 3ms/step - loss: 0.0792 - accuracy: 0.4750\n",
            "Epoch 38/150\n",
            "469/469 [==============================] - 1s 3ms/step - loss: 0.0788 - accuracy: 0.4768\n",
            "Epoch 39/150\n",
            "469/469 [==============================] - 1s 3ms/step - loss: 0.0784 - accuracy: 0.4777\n",
            "Epoch 40/150\n",
            "469/469 [==============================] - 1s 2ms/step - loss: 0.0779 - accuracy: 0.4803\n",
            "Epoch 41/150\n",
            "469/469 [==============================] - 1s 3ms/step - loss: 0.0775 - accuracy: 0.4815\n",
            "Epoch 42/150\n",
            "469/469 [==============================] - 1s 3ms/step - loss: 0.0770 - accuracy: 0.4846\n",
            "Epoch 43/150\n",
            "469/469 [==============================] - 1s 3ms/step - loss: 0.0766 - accuracy: 0.4865\n",
            "Epoch 44/150\n",
            "469/469 [==============================] - 1s 3ms/step - loss: 0.0761 - accuracy: 0.4892\n",
            "Epoch 45/150\n",
            "469/469 [==============================] - 1s 3ms/step - loss: 0.0757 - accuracy: 0.4918\n",
            "Epoch 46/150\n",
            "469/469 [==============================] - 1s 3ms/step - loss: 0.0752 - accuracy: 0.4943\n",
            "Epoch 47/150\n",
            "469/469 [==============================] - 1s 3ms/step - loss: 0.0747 - accuracy: 0.4979\n",
            "Epoch 48/150\n",
            "469/469 [==============================] - 1s 3ms/step - loss: 0.0743 - accuracy: 0.5014\n",
            "Epoch 49/150\n",
            "469/469 [==============================] - 1s 3ms/step - loss: 0.0738 - accuracy: 0.5046\n",
            "Epoch 50/150\n",
            "469/469 [==============================] - 1s 3ms/step - loss: 0.0733 - accuracy: 0.5082\n",
            "Epoch 51/150\n",
            "469/469 [==============================] - 1s 3ms/step - loss: 0.0729 - accuracy: 0.5122\n",
            "Epoch 52/150\n",
            "469/469 [==============================] - 1s 3ms/step - loss: 0.0724 - accuracy: 0.5168\n",
            "Epoch 53/150\n",
            "469/469 [==============================] - 1s 3ms/step - loss: 0.0719 - accuracy: 0.5200\n",
            "Epoch 54/150\n",
            "469/469 [==============================] - 1s 3ms/step - loss: 0.0714 - accuracy: 0.5260\n",
            "Epoch 55/150\n",
            "469/469 [==============================] - 1s 3ms/step - loss: 0.0709 - accuracy: 0.5309\n",
            "Epoch 56/150\n",
            "469/469 [==============================] - 1s 3ms/step - loss: 0.0704 - accuracy: 0.5361\n",
            "Epoch 57/150\n",
            "469/469 [==============================] - 1s 3ms/step - loss: 0.0699 - accuracy: 0.5412\n",
            "Epoch 58/150\n",
            "469/469 [==============================] - 1s 3ms/step - loss: 0.0694 - accuracy: 0.5464\n",
            "Epoch 59/150\n",
            "469/469 [==============================] - 1s 3ms/step - loss: 0.0690 - accuracy: 0.5511\n",
            "Epoch 60/150\n",
            "469/469 [==============================] - 1s 3ms/step - loss: 0.0685 - accuracy: 0.5566\n",
            "Epoch 61/150\n",
            "469/469 [==============================] - 1s 3ms/step - loss: 0.0680 - accuracy: 0.5627\n",
            "Epoch 62/150\n",
            "469/469 [==============================] - 1s 3ms/step - loss: 0.0675 - accuracy: 0.5680\n",
            "Epoch 63/150\n",
            "469/469 [==============================] - 1s 3ms/step - loss: 0.0670 - accuracy: 0.5743\n",
            "Epoch 64/150\n",
            "469/469 [==============================] - 1s 3ms/step - loss: 0.0665 - accuracy: 0.5794\n",
            "Epoch 65/150\n",
            "469/469 [==============================] - 1s 3ms/step - loss: 0.0660 - accuracy: 0.5847\n",
            "Epoch 66/150\n",
            "469/469 [==============================] - 1s 3ms/step - loss: 0.0656 - accuracy: 0.5902\n",
            "Epoch 67/150\n",
            "469/469 [==============================] - 1s 3ms/step - loss: 0.0651 - accuracy: 0.5957\n",
            "Epoch 68/150\n",
            "469/469 [==============================] - 1s 3ms/step - loss: 0.0646 - accuracy: 0.6011\n",
            "Epoch 69/150\n",
            "469/469 [==============================] - 1s 3ms/step - loss: 0.0641 - accuracy: 0.6066\n",
            "Epoch 70/150\n",
            "469/469 [==============================] - 1s 3ms/step - loss: 0.0637 - accuracy: 0.6117\n",
            "Epoch 71/150\n",
            "469/469 [==============================] - 1s 3ms/step - loss: 0.0632 - accuracy: 0.6168\n",
            "Epoch 72/150\n",
            "469/469 [==============================] - 1s 3ms/step - loss: 0.0627 - accuracy: 0.6216\n",
            "Epoch 73/150\n",
            "469/469 [==============================] - 1s 3ms/step - loss: 0.0623 - accuracy: 0.6267\n",
            "Epoch 74/150\n",
            "469/469 [==============================] - 1s 3ms/step - loss: 0.0618 - accuracy: 0.6312\n",
            "Epoch 75/150\n",
            "469/469 [==============================] - 1s 3ms/step - loss: 0.0613 - accuracy: 0.6363\n",
            "Epoch 76/150\n",
            "469/469 [==============================] - 1s 3ms/step - loss: 0.0609 - accuracy: 0.6402\n",
            "Epoch 77/150\n",
            "469/469 [==============================] - 1s 3ms/step - loss: 0.0604 - accuracy: 0.6444\n",
            "Epoch 78/150\n",
            "469/469 [==============================] - 1s 3ms/step - loss: 0.0600 - accuracy: 0.6485\n",
            "Epoch 79/150\n",
            "469/469 [==============================] - 1s 3ms/step - loss: 0.0595 - accuracy: 0.6519\n",
            "Epoch 80/150\n",
            "469/469 [==============================] - 1s 3ms/step - loss: 0.0591 - accuracy: 0.6556\n",
            "Epoch 81/150\n",
            "469/469 [==============================] - 1s 3ms/step - loss: 0.0587 - accuracy: 0.6585\n",
            "Epoch 82/150\n",
            "469/469 [==============================] - 1s 3ms/step - loss: 0.0582 - accuracy: 0.6623\n",
            "Epoch 83/150\n",
            "469/469 [==============================] - 1s 3ms/step - loss: 0.0578 - accuracy: 0.6658\n",
            "Epoch 84/150\n",
            "469/469 [==============================] - 1s 3ms/step - loss: 0.0574 - accuracy: 0.6690\n",
            "Epoch 85/150\n",
            "469/469 [==============================] - 1s 3ms/step - loss: 0.0569 - accuracy: 0.6719\n",
            "Epoch 86/150\n",
            "469/469 [==============================] - 1s 3ms/step - loss: 0.0565 - accuracy: 0.6745\n",
            "Epoch 87/150\n",
            "469/469 [==============================] - 1s 3ms/step - loss: 0.0561 - accuracy: 0.6769\n",
            "Epoch 88/150\n",
            "469/469 [==============================] - 1s 2ms/step - loss: 0.0557 - accuracy: 0.6799\n",
            "Epoch 89/150\n",
            "469/469 [==============================] - 1s 3ms/step - loss: 0.0553 - accuracy: 0.6829\n",
            "Epoch 90/150\n",
            "469/469 [==============================] - 1s 2ms/step - loss: 0.0549 - accuracy: 0.6855\n",
            "Epoch 91/150\n",
            "469/469 [==============================] - 1s 3ms/step - loss: 0.0545 - accuracy: 0.6884\n",
            "Epoch 92/150\n",
            "469/469 [==============================] - 1s 3ms/step - loss: 0.0541 - accuracy: 0.6909\n",
            "Epoch 93/150\n",
            "469/469 [==============================] - 1s 3ms/step - loss: 0.0537 - accuracy: 0.6937\n",
            "Epoch 94/150\n",
            "469/469 [==============================] - 1s 3ms/step - loss: 0.0533 - accuracy: 0.6965\n",
            "Epoch 95/150\n",
            "469/469 [==============================] - 1s 3ms/step - loss: 0.0529 - accuracy: 0.6991\n",
            "Epoch 96/150\n",
            "469/469 [==============================] - 1s 3ms/step - loss: 0.0525 - accuracy: 0.7021\n",
            "Epoch 97/150\n",
            "469/469 [==============================] - 1s 3ms/step - loss: 0.0521 - accuracy: 0.7043\n",
            "Epoch 98/150\n",
            "469/469 [==============================] - 1s 3ms/step - loss: 0.0517 - accuracy: 0.7072\n",
            "Epoch 99/150\n",
            "469/469 [==============================] - 1s 3ms/step - loss: 0.0514 - accuracy: 0.7102\n",
            "Epoch 100/150\n",
            "469/469 [==============================] - 1s 3ms/step - loss: 0.0510 - accuracy: 0.7129\n",
            "Epoch 101/150\n",
            "469/469 [==============================] - 1s 3ms/step - loss: 0.0507 - accuracy: 0.7160\n",
            "Epoch 102/150\n",
            "469/469 [==============================] - 1s 3ms/step - loss: 0.0503 - accuracy: 0.7182\n",
            "Epoch 103/150\n",
            "469/469 [==============================] - 1s 3ms/step - loss: 0.0499 - accuracy: 0.7207\n",
            "Epoch 104/150\n",
            "469/469 [==============================] - 1s 3ms/step - loss: 0.0496 - accuracy: 0.7238\n",
            "Epoch 105/150\n",
            "469/469 [==============================] - 1s 3ms/step - loss: 0.0493 - accuracy: 0.7268\n",
            "Epoch 106/150\n",
            "469/469 [==============================] - 1s 3ms/step - loss: 0.0489 - accuracy: 0.7295\n",
            "Epoch 107/150\n",
            "469/469 [==============================] - 1s 3ms/step - loss: 0.0486 - accuracy: 0.7323\n",
            "Epoch 108/150\n",
            "469/469 [==============================] - 1s 3ms/step - loss: 0.0483 - accuracy: 0.7346\n",
            "Epoch 109/150\n",
            "469/469 [==============================] - 1s 3ms/step - loss: 0.0479 - accuracy: 0.7374\n",
            "Epoch 110/150\n",
            "469/469 [==============================] - 1s 3ms/step - loss: 0.0476 - accuracy: 0.7390\n",
            "Epoch 111/150\n",
            "469/469 [==============================] - 1s 3ms/step - loss: 0.0473 - accuracy: 0.7409\n",
            "Epoch 112/150\n",
            "469/469 [==============================] - 1s 3ms/step - loss: 0.0470 - accuracy: 0.7430\n",
            "Epoch 113/150\n",
            "469/469 [==============================] - 1s 3ms/step - loss: 0.0467 - accuracy: 0.7453\n",
            "Epoch 114/150\n",
            "469/469 [==============================] - 1s 3ms/step - loss: 0.0464 - accuracy: 0.7476\n",
            "Epoch 115/150\n",
            "469/469 [==============================] - 1s 3ms/step - loss: 0.0461 - accuracy: 0.7490\n",
            "Epoch 116/150\n",
            "469/469 [==============================] - 1s 3ms/step - loss: 0.0458 - accuracy: 0.7512\n",
            "Epoch 117/150\n",
            "469/469 [==============================] - 1s 3ms/step - loss: 0.0455 - accuracy: 0.7529\n",
            "Epoch 118/150\n",
            "469/469 [==============================] - 1s 3ms/step - loss: 0.0452 - accuracy: 0.7549\n",
            "Epoch 119/150\n",
            "469/469 [==============================] - 1s 3ms/step - loss: 0.0449 - accuracy: 0.7564\n",
            "Epoch 120/150\n",
            "469/469 [==============================] - 1s 3ms/step - loss: 0.0447 - accuracy: 0.7580\n",
            "Epoch 121/150\n",
            "469/469 [==============================] - 1s 3ms/step - loss: 0.0444 - accuracy: 0.7597\n",
            "Epoch 122/150\n",
            "469/469 [==============================] - 1s 3ms/step - loss: 0.0441 - accuracy: 0.7610\n",
            "Epoch 123/150\n",
            "469/469 [==============================] - 1s 3ms/step - loss: 0.0439 - accuracy: 0.7625\n",
            "Epoch 124/150\n",
            "469/469 [==============================] - 1s 3ms/step - loss: 0.0436 - accuracy: 0.7639\n",
            "Epoch 125/150\n",
            "469/469 [==============================] - 1s 3ms/step - loss: 0.0433 - accuracy: 0.7649\n",
            "Epoch 126/150\n",
            "469/469 [==============================] - 1s 3ms/step - loss: 0.0431 - accuracy: 0.7663\n",
            "Epoch 127/150\n",
            "469/469 [==============================] - 1s 3ms/step - loss: 0.0428 - accuracy: 0.7671\n",
            "Epoch 128/150\n",
            "469/469 [==============================] - 1s 3ms/step - loss: 0.0426 - accuracy: 0.7684\n",
            "Epoch 129/150\n",
            "469/469 [==============================] - 1s 3ms/step - loss: 0.0423 - accuracy: 0.7697\n",
            "Epoch 130/150\n",
            "469/469 [==============================] - 1s 3ms/step - loss: 0.0421 - accuracy: 0.7705\n",
            "Epoch 131/150\n",
            "469/469 [==============================] - 1s 3ms/step - loss: 0.0419 - accuracy: 0.7714\n",
            "Epoch 132/150\n",
            "469/469 [==============================] - 1s 3ms/step - loss: 0.0416 - accuracy: 0.7722\n",
            "Epoch 133/150\n",
            "469/469 [==============================] - 1s 3ms/step - loss: 0.0414 - accuracy: 0.7730\n",
            "Epoch 134/150\n",
            "469/469 [==============================] - 1s 3ms/step - loss: 0.0412 - accuracy: 0.7739\n",
            "Epoch 135/150\n",
            "469/469 [==============================] - 1s 3ms/step - loss: 0.0410 - accuracy: 0.7747\n",
            "Epoch 136/150\n",
            "469/469 [==============================] - 1s 3ms/step - loss: 0.0407 - accuracy: 0.7753\n",
            "Epoch 137/150\n",
            "469/469 [==============================] - 1s 3ms/step - loss: 0.0405 - accuracy: 0.7761\n",
            "Epoch 138/150\n",
            "469/469 [==============================] - 1s 3ms/step - loss: 0.0403 - accuracy: 0.7770\n",
            "Epoch 139/150\n",
            "469/469 [==============================] - 1s 3ms/step - loss: 0.0401 - accuracy: 0.7776\n",
            "Epoch 140/150\n",
            "469/469 [==============================] - 1s 3ms/step - loss: 0.0399 - accuracy: 0.7783\n",
            "Epoch 141/150\n",
            "469/469 [==============================] - 1s 3ms/step - loss: 0.0397 - accuracy: 0.7793\n",
            "Epoch 142/150\n",
            "469/469 [==============================] - 1s 3ms/step - loss: 0.0395 - accuracy: 0.7797\n",
            "Epoch 143/150\n",
            "469/469 [==============================] - 1s 3ms/step - loss: 0.0392 - accuracy: 0.7804\n",
            "Epoch 144/150\n",
            "469/469 [==============================] - 1s 3ms/step - loss: 0.0390 - accuracy: 0.7808\n",
            "Epoch 145/150\n",
            "469/469 [==============================] - 1s 3ms/step - loss: 0.0388 - accuracy: 0.7816\n",
            "Epoch 146/150\n",
            "469/469 [==============================] - 1s 3ms/step - loss: 0.0386 - accuracy: 0.7821\n",
            "Epoch 147/150\n",
            "469/469 [==============================] - 1s 3ms/step - loss: 0.0384 - accuracy: 0.7825\n",
            "Epoch 148/150\n",
            "469/469 [==============================] - 1s 3ms/step - loss: 0.0383 - accuracy: 0.7830\n",
            "Epoch 149/150\n",
            "469/469 [==============================] - 1s 3ms/step - loss: 0.0381 - accuracy: 0.7837\n",
            "Epoch 150/150\n",
            "469/469 [==============================] - 1s 3ms/step - loss: 0.0379 - accuracy: 0.7846\n"
          ]
        }
      ]
    },
    {
      "cell_type": "code",
      "source": [
        "x_valid.shape"
      ],
      "metadata": {
        "colab": {
          "base_uri": "https://localhost:8080/"
        },
        "id": "IW9PvGIA63Wj",
        "outputId": "24c77f94-fa3f-4cad-b5ef-02562f080a62"
      },
      "execution_count": null,
      "outputs": [
        {
          "output_type": "execute_result",
          "data": {
            "text/plain": [
              "(10000, 28, 28)"
            ]
          },
          "metadata": {},
          "execution_count": 21
        }
      ]
    },
    {
      "cell_type": "code",
      "source": [
        "y_valid.shape"
      ],
      "metadata": {
        "colab": {
          "base_uri": "https://localhost:8080/"
        },
        "id": "ZiJV-qdb7NZT",
        "outputId": "6af18ec8-a6bd-414f-ea87-a4df4172e046"
      },
      "execution_count": null,
      "outputs": [
        {
          "output_type": "execute_result",
          "data": {
            "text/plain": [
              "(10000,)"
            ]
          },
          "metadata": {},
          "execution_count": 16
        }
      ]
    },
    {
      "cell_type": "code",
      "source": [
        "from sklearn.metrics import confusion_matrix\n",
        "\n",
        "\n",
        "x_valid =x_valid.reshape(x_valid.shape[1:])\n",
        "#X = X.reshape(X.shape[1:]) \n",
        "\n",
        "test_predictions = model.predict(x_valid)\n",
        "\n",
        "# Compute confusion matrix\n",
        "confusion =confusion_matrix(y_valid, test_predictions)"
      ],
      "metadata": {
        "colab": {
          "base_uri": "https://localhost:8080/",
          "height": 234
        },
        "id": "5Excrc5l8VOZ",
        "outputId": "8c0d5224-356d-42a0-d714-ac2f7fb39ed1"
      },
      "execution_count": null,
      "outputs": [
        {
          "output_type": "error",
          "ename": "ValueError",
          "evalue": "ignored",
          "traceback": [
            "\u001b[0;31m---------------------------------------------------------------------------\u001b[0m",
            "\u001b[0;31mValueError\u001b[0m                                Traceback (most recent call last)",
            "\u001b[0;32m<ipython-input-27-24a81fb1c2a5>\u001b[0m in \u001b[0;36m<module>\u001b[0;34m()\u001b[0m\n\u001b[1;32m      2\u001b[0m \u001b[0;34m\u001b[0m\u001b[0m\n\u001b[1;32m      3\u001b[0m \u001b[0;34m\u001b[0m\u001b[0m\n\u001b[0;32m----> 4\u001b[0;31m \u001b[0mx_valid\u001b[0m \u001b[0;34m=\u001b[0m\u001b[0mx_valid\u001b[0m\u001b[0;34m.\u001b[0m\u001b[0mreshape\u001b[0m\u001b[0;34m(\u001b[0m\u001b[0mx_valid\u001b[0m\u001b[0;34m.\u001b[0m\u001b[0mshape\u001b[0m\u001b[0;34m[\u001b[0m\u001b[0;36m1\u001b[0m\u001b[0;34m:\u001b[0m\u001b[0;34m]\u001b[0m\u001b[0;34m)\u001b[0m\u001b[0;34m\u001b[0m\u001b[0;34m\u001b[0m\u001b[0m\n\u001b[0m\u001b[1;32m      5\u001b[0m \u001b[0;31m#X = X.reshape(X.shape[1:])\u001b[0m\u001b[0;34m\u001b[0m\u001b[0;34m\u001b[0m\u001b[0;34m\u001b[0m\u001b[0m\n\u001b[1;32m      6\u001b[0m \u001b[0;34m\u001b[0m\u001b[0m\n",
            "\u001b[0;31mValueError\u001b[0m: cannot reshape array of size 7840000 into shape (28,28)"
          ]
        }
      ]
    },
    {
      "cell_type": "code",
      "source": [
        "from sklearn.datasets import fetch_openml\n",
        "from sklearn.preprocessing import StandardScaler\n",
        "from sklearn.pipeline import make_pipeline\n",
        "from sklearn.linear_model import LogisticRegression\n",
        "from sklearn.model_selection import train_test_split\n",
        "\n",
        "X, Y = fetch_openml(data_id=1464, return_X_y=True)\n",
        "X_train, X_valid, Y_train,Y_valid = train_test_split(X, Y, stratify=Y)\n",
        "\n",
        "clf = make_pipeline(StandardScaler(), LogisticRegression(random_state=0))\n",
        "clf.fit(X_train, Y_train)"
      ],
      "metadata": {
        "colab": {
          "base_uri": "https://localhost:8080/"
        },
        "id": "SMNCjVGeND9B",
        "outputId": "9910df0b-f810-450d-b06e-bb0b7b4387ed"
      },
      "execution_count": null,
      "outputs": [
        {
          "output_type": "execute_result",
          "data": {
            "text/plain": [
              "Pipeline(steps=[('standardscaler', StandardScaler()),\n",
              "                ('logisticregression', LogisticRegression(random_state=0))])"
            ]
          },
          "metadata": {},
          "execution_count": 28
        }
      ]
    },
    {
      "cell_type": "code",
      "source": [
        "from sklearn.metrics import confusion_matrix\n",
        "from sklearn.metrics import ConfusionMatrixDisplay\n",
        "\n",
        "Y_pred = clf.predict(X_valid)\n",
        "cm = confusion_matrix(Y_valid, Y_pred)\n",
        "\n",
        "cm_display = ConfusionMatrixDisplay(cm).plot()"
      ],
      "metadata": {
        "colab": {
          "base_uri": "https://localhost:8080/",
          "height": 280
        },
        "id": "XNC52e9qNQjP",
        "outputId": "fdff5139-ecae-4144-da02-9dca1ff2e281"
      },
      "execution_count": null,
      "outputs": [
        {
          "output_type": "display_data",
          "data": {
            "image/png": "[encoded data removed]",
            "text/plain": [
              "<Figure size 432x288 with 2 Axes>"
            ]
          },
          "metadata": {
            "needs_background": "light"
          }
        }
      ]
    }
  ]
}